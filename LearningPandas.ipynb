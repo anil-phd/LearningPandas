 df_daily=df.set_index('Usagedate')
    df_daily=df_daily.groupby('MeterId').resample('D').agg({
        'Total' : 'sum',
        'Cooling': 'sum',
        'HVAC Cooling' : 'sum',
        'Temperature' : 'mean',
        'in.sqft' : 'first',
        'in.hvac_cooling_efficiency' : 'first',
        'in.hvac_cooling_type' : 'first',
        'in.occupants' : 'mean'
    }).reset_index(drop=False)
    df_daily
